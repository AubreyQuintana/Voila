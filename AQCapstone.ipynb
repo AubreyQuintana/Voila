{
 "cells": [
  {
   "cell_type": "markdown",
   "id": "948e8f53-ba12-450e-b825-a4f185b10411",
   "metadata": {},
   "source": [
    "Scream4Cream Business Plan"
   ]
  },
  {
   "cell_type": "code",
   "execution_count": 30,
   "id": "99071f80-fac9-4023-9451-a003b075edb5",
   "metadata": {},
   "outputs": [],
   "source": [
    "import numpy as np\n",
    "import pandas as pd\n",
    "import matplotlib.pyplot as plt\n",
    "import seaborn as sns\n",
    "from sklearn.model_selection import train_test_split\n",
    "from sklearn.linear_model import LinearRegression\n",
    "from sklearn.metrics import r2_score\n",
    "from __future__ import print_function\n",
    "from ipywidgets import interact, interactive, fixed, interact_manual\n",
    "import ipywidgets as widgets\n",
    "%matplotlib inline"
   ]
  },
  {
   "cell_type": "raw",
   "id": "83414b9d-a0fe-46a3-835d-1e869bee67cc",
   "metadata": {},
   "source": [
    "Shown below are the first 5 rows of the dataframe for reference"
   ]
  },
  {
   "cell_type": "code",
   "execution_count": 31,
   "id": "605ccc7f-d042-4b04-bee9-8b949ed0b0a2",
   "metadata": {},
   "outputs": [],
   "source": [
    "df = pd.DataFrame(pd.read_csv(\"IceCreamData.csv\"))"
   ]
  },
  {
   "cell_type": "code",
   "execution_count": 32,
   "id": "7fc701cf-7a44-496e-9645-6528e70c8a4e",
   "metadata": {},
   "outputs": [
    {
     "data": {
      "text/html": [
       "<div>\n",
       "<style scoped>\n",
       "    .dataframe tbody tr th:only-of-type {\n",
       "        vertical-align: middle;\n",
       "    }\n",
       "\n",
       "    .dataframe tbody tr th {\n",
       "        vertical-align: top;\n",
       "    }\n",
       "\n",
       "    .dataframe thead th {\n",
       "        text-align: right;\n",
       "    }\n",
       "</style>\n",
       "<table border=\"1\" class=\"dataframe\">\n",
       "  <thead>\n",
       "    <tr style=\"text-align: right;\">\n",
       "      <th></th>\n",
       "      <th>Temperature</th>\n",
       "      <th>Revenue</th>\n",
       "    </tr>\n",
       "  </thead>\n",
       "  <tbody>\n",
       "    <tr>\n",
       "      <th>0</th>\n",
       "      <td>24.566884</td>\n",
       "      <td>534.799028</td>\n",
       "    </tr>\n",
       "    <tr>\n",
       "      <th>1</th>\n",
       "      <td>26.005191</td>\n",
       "      <td>625.190122</td>\n",
       "    </tr>\n",
       "    <tr>\n",
       "      <th>2</th>\n",
       "      <td>27.790554</td>\n",
       "      <td>660.632289</td>\n",
       "    </tr>\n",
       "    <tr>\n",
       "      <th>3</th>\n",
       "      <td>20.595335</td>\n",
       "      <td>487.706960</td>\n",
       "    </tr>\n",
       "    <tr>\n",
       "      <th>4</th>\n",
       "      <td>11.503498</td>\n",
       "      <td>316.240194</td>\n",
       "    </tr>\n",
       "  </tbody>\n",
       "</table>\n",
       "</div>"
      ],
      "text/plain": [
       "   Temperature     Revenue\n",
       "0    24.566884  534.799028\n",
       "1    26.005191  625.190122\n",
       "2    27.790554  660.632289\n",
       "3    20.595335  487.706960\n",
       "4    11.503498  316.240194"
      ]
     },
     "execution_count": 32,
     "metadata": {},
     "output_type": "execute_result"
    }
   ],
   "source": [
    "#Show first 5 rows in dataset\n",
    "\n",
    "df.head()"
   ]
  },
  {
   "cell_type": "markdown",
   "id": "87f1cdd0-a801-4caa-a098-10f6b987d554",
   "metadata": {},
   "source": [
    "VISUALIZE DATASET - DESCRIPTIVE METHOD"
   ]
  },
  {
   "cell_type": "code",
   "execution_count": 33,
   "id": "3dcce974-7df4-467c-b054-ca5ca74b2dd0",
   "metadata": {},
   "outputs": [
    {
     "data": {
      "text/html": [
       "<div>\n",
       "<style scoped>\n",
       "    .dataframe tbody tr th:only-of-type {\n",
       "        vertical-align: middle;\n",
       "    }\n",
       "\n",
       "    .dataframe tbody tr th {\n",
       "        vertical-align: top;\n",
       "    }\n",
       "\n",
       "    .dataframe thead th {\n",
       "        text-align: right;\n",
       "    }\n",
       "</style>\n",
       "<table border=\"1\" class=\"dataframe\">\n",
       "  <thead>\n",
       "    <tr style=\"text-align: right;\">\n",
       "      <th></th>\n",
       "      <th>Temperature</th>\n",
       "      <th>Revenue</th>\n",
       "    </tr>\n",
       "  </thead>\n",
       "  <tbody>\n",
       "    <tr>\n",
       "      <th>count</th>\n",
       "      <td>500.000000</td>\n",
       "      <td>500.000000</td>\n",
       "    </tr>\n",
       "    <tr>\n",
       "      <th>mean</th>\n",
       "      <td>22.232225</td>\n",
       "      <td>521.570777</td>\n",
       "    </tr>\n",
       "    <tr>\n",
       "      <th>std</th>\n",
       "      <td>8.096388</td>\n",
       "      <td>175.404751</td>\n",
       "    </tr>\n",
       "    <tr>\n",
       "      <th>min</th>\n",
       "      <td>0.000000</td>\n",
       "      <td>10.000000</td>\n",
       "    </tr>\n",
       "    <tr>\n",
       "      <th>25%</th>\n",
       "      <td>17.122258</td>\n",
       "      <td>405.558681</td>\n",
       "    </tr>\n",
       "    <tr>\n",
       "      <th>50%</th>\n",
       "      <td>22.392791</td>\n",
       "      <td>529.368565</td>\n",
       "    </tr>\n",
       "    <tr>\n",
       "      <th>75%</th>\n",
       "      <td>27.740674</td>\n",
       "      <td>642.257922</td>\n",
       "    </tr>\n",
       "    <tr>\n",
       "      <th>max</th>\n",
       "      <td>45.000000</td>\n",
       "      <td>1000.000000</td>\n",
       "    </tr>\n",
       "  </tbody>\n",
       "</table>\n",
       "</div>"
      ],
      "text/plain": [
       "       Temperature      Revenue\n",
       "count   500.000000   500.000000\n",
       "mean     22.232225   521.570777\n",
       "std       8.096388   175.404751\n",
       "min       0.000000    10.000000\n",
       "25%      17.122258   405.558681\n",
       "50%      22.392791   529.368565\n",
       "75%      27.740674   642.257922\n",
       "max      45.000000  1000.000000"
      ]
     },
     "execution_count": 33,
     "metadata": {},
     "output_type": "execute_result"
    }
   ],
   "source": [
    "df.describe()"
   ]
  },
  {
   "cell_type": "markdown",
   "id": "51afffc3-f9ae-43e1-a421-a438d78b8474",
   "metadata": {},
   "source": [
    "Scatterplot graph:"
   ]
  },
  {
   "cell_type": "code",
   "execution_count": 34,
   "id": "342bd314-8344-4d82-8f37-a7e050925cb5",
   "metadata": {},
   "outputs": [
    {
     "data": {
      "text/plain": [
       "<Axes: xlabel='Temperature', ylabel='Revenue'>"
      ]
     },
     "execution_count": 34,
     "metadata": {},
     "output_type": "execute_result"
    },
    {
     "data": {
      "image/png": "[encoded data removed]",
      "text/plain": [
       "<Figure size 640x480 with 1 Axes>"
      ]
     },
     "metadata": {},
     "output_type": "display_data"
    }
   ],
   "source": [
    "sns.scatterplot(data=df, x=\"Temperature\", y=\"Revenue\")"
   ]
  },
  {
   "cell_type": "markdown",
   "id": "a03ce797-103f-409f-9904-51ae376fba74",
   "metadata": {},
   "source": [
    "In this scatterplot we can see a clear linear relationship between the rise in temperature to the rise in revenue."
   ]
  },
  {
   "cell_type": "markdown",
   "id": "4f8dc10b-ec98-4092-ab65-0f8406242d44",
   "metadata": {},
   "source": [
    "Heatmap graph:"
   ]
  },
  {
   "cell_type": "code",
   "execution_count": 35,
   "id": "de457584-b9ab-4e27-adaa-9033993d96be",
   "metadata": {},
   "outputs": [
    {
     "data": {
      "text/plain": [
       "<Axes: >"
      ]
     },
     "execution_count": 35,
     "metadata": {},
     "output_type": "execute_result"
    },
    {
     "data": {
      "image/png": "[encoded data removed]",
      "text/plain": [
       "<Figure size 640x480 with 2 Axes>"
      ]
     },
     "metadata": {},
     "output_type": "display_data"
    }
   ],
   "source": [
    "sns.heatmap(df.corr(),annot=True)"
   ]
  },
  {
   "cell_type": "markdown",
   "id": "fcf9b18d-44d3-488b-a663-9611bbe771b7",
   "metadata": {},
   "source": [
    "This heatmap shows a high correlation between the temperature and revenue in our dataset."
   ]
  },
  {
   "cell_type": "code",
   "execution_count": 36,
   "id": "a7f80532-157d-4af3-a2d9-0be06653ed0b",
   "metadata": {},
   "outputs": [],
   "source": [
    "#Split data for training and testing, 80/20 ratio\n",
    "data = df.values\n",
    "x, y = data[:,:-1], data[:,-1]\n",
    "x_train, x_test, y_train, y_test = train_test_split(x, y, test_size=0.2, random_state=0)  "
   ]
  },
  {
   "cell_type": "markdown",
   "id": "eafc090b-14c5-48c9-af89-956a7bba81d1",
   "metadata": {},
   "source": [
    "MODEL THE DATA - NON-DESCRIPTIVE METHOD"
   ]
  },
  {
   "cell_type": "code",
   "execution_count": 37,
   "id": "76183c3b-33fb-4bc6-9106-c7a1eb5b6e4f",
   "metadata": {},
   "outputs": [],
   "source": [
    "model = LinearRegression()"
   ]
  },
  {
   "cell_type": "code",
   "execution_count": 38,
   "id": "b5d2d798-1be4-4164-94e2-23dd526e74c8",
   "metadata": {},
   "outputs": [
    {
     "data": {
      "text/html": [
       "<style>#sk-container-id-1 {color: black;}#sk-container-id-1 pre{padding: 0;}#sk-container-id-1 div.sk-toggleable {background-color: white;}#sk-container-id-1 label.sk-toggleable__label {cursor: pointer;display: block;width: 100%;margin-bottom: 0;padding: 0.3em;box-sizing: border-box;text-align: center;}#sk-container-id-1 label.sk-toggleable__label-arrow:before {content: \"▸\";float: left;margin-right: 0.25em;color: #696969;}#sk-container-id-1 label.sk-toggleable__label-arrow:hover:before {color: black;}#sk-container-id-1 div.sk-estimator:hover label.sk-toggleable__label-arrow:before {color: black;}#sk-container-id-1 div.sk-toggleable__content {max-height: 0;max-width: 0;overflow: hidden;text-align: left;background-color: #f0f8ff;}#sk-container-id-1 div.sk-toggleable__content pre {margin: 0.2em;color: black;border-radius: 0.25em;background-color: #f0f8ff;}#sk-container-id-1 input.sk-toggleable__control:checked~div.sk-toggleable__content {max-height: 200px;max-width: 100%;overflow: auto;}#sk-container-id-1 input.sk-toggleable__control:checked~label.sk-toggleable__label-arrow:before {content: \"▾\";}#sk-container-id-1 div.sk-estimator input.sk-toggleable__control:checked~label.sk-toggleable__label {background-color: #d4ebff;}#sk-container-id-1 div.sk-label input.sk-toggleable__control:checked~label.sk-toggleable__label {background-color: #d4ebff;}#sk-container-id-1 input.sk-hidden--visually {border: 0;clip: rect(1px 1px 1px 1px);clip: rect(1px, 1px, 1px, 1px);height: 1px;margin: -1px;overflow: hidden;padding: 0;position: absolute;width: 1px;}#sk-container-id-1 div.sk-estimator {font-family: monospace;background-color: #f0f8ff;border: 1px dotted black;border-radius: 0.25em;box-sizing: border-box;margin-bottom: 0.5em;}#sk-container-id-1 div.sk-estimator:hover {background-color: #d4ebff;}#sk-container-id-1 div.sk-parallel-item::after {content: \"\";width: 100%;border-bottom: 1px solid gray;flex-grow: 1;}#sk-container-id-1 div.sk-label:hover label.sk-toggleable__label {background-color: #d4ebff;}#sk-container-id-1 div.sk-serial::before {content: \"\";position: absolute;border-left: 1px solid gray;box-sizing: border-box;top: 0;bottom: 0;left: 50%;z-index: 0;}#sk-container-id-1 div.sk-serial {display: flex;flex-direction: column;align-items: center;background-color: white;padding-right: 0.2em;padding-left: 0.2em;position: relative;}#sk-container-id-1 div.sk-item {position: relative;z-index: 1;}#sk-container-id-1 div.sk-parallel {display: flex;align-items: stretch;justify-content: center;background-color: white;position: relative;}#sk-container-id-1 div.sk-item::before, #sk-container-id-1 div.sk-parallel-item::before {content: \"\";position: absolute;border-left: 1px solid gray;box-sizing: border-box;top: 0;bottom: 0;left: 50%;z-index: -1;}#sk-container-id-1 div.sk-parallel-item {display: flex;flex-direction: column;z-index: 1;position: relative;background-color: white;}#sk-container-id-1 div.sk-parallel-item:first-child::after {align-self: flex-end;width: 50%;}#sk-container-id-1 div.sk-parallel-item:last-child::after {align-self: flex-start;width: 50%;}#sk-container-id-1 div.sk-parallel-item:only-child::after {width: 0;}#sk-container-id-1 div.sk-dashed-wrapped {border: 1px dashed gray;margin: 0 0.4em 0.5em 0.4em;box-sizing: border-box;padding-bottom: 0.4em;background-color: white;}#sk-container-id-1 div.sk-label label {font-family: monospace;font-weight: bold;display: inline-block;line-height: 1.2em;}#sk-container-id-1 div.sk-label-container {text-align: center;}#sk-container-id-1 div.sk-container {/* jupyter's `normalize.less` sets `[hidden] { display: none; }` but bootstrap.min.css set `[hidden] { display: none !important; }` so we also need the `!important` here to be able to override the default hidden behavior on the sphinx rendered scikit-learn.org. See: https://github.com/scikit-learn/scikit-learn/issues/21755 */display: inline-block !important;position: relative;}#sk-container-id-1 div.sk-text-repr-fallback {display: none;}</style><div id=\"sk-container-id-1\" class=\"sk-top-container\"><div class=\"sk-text-repr-fallback\"><pre>LinearRegression()</pre><b>In a Jupyter environment, please rerun this cell to show the HTML representation or trust the notebook. <br />On GitHub, the HTML representation is unable to render, please try loading this page with nbviewer.org.</b></div><div class=\"sk-container\" hidden><div class=\"sk-item\"><div class=\"sk-estimator sk-toggleable\"><input class=\"sk-toggleable__control sk-hidden--visually\" id=\"sk-estimator-id-1\" type=\"checkbox\" checked><label for=\"sk-estimator-id-1\" class=\"sk-toggleable__label sk-toggleable__label-arrow\">LinearRegression</label><div class=\"sk-toggleable__content\"><pre>LinearRegression()</pre></div></div></div></div></div>"
      ],
      "text/plain": [
       "LinearRegression()"
      ]
     },
     "execution_count": 38,
     "metadata": {},
     "output_type": "execute_result"
    }
   ],
   "source": [
    "model.fit(x_train, y_train)"
   ]
  },
  {
   "cell_type": "markdown",
   "id": "b731db99-ba79-4c73-8ea1-bffe519dc759",
   "metadata": {},
   "source": [
    "Supervised machine learning - Linear regression model:"
   ]
  },
  {
   "cell_type": "code",
   "execution_count": 39,
   "id": "74926ff7-6fb0-4905-8c5e-70016457a948",
   "metadata": {},
   "outputs": [
    {
     "data": {
      "text/plain": [
       "[<matplotlib.lines.Line2D at 0x1673c328650>]"
      ]
     },
     "execution_count": 39,
     "metadata": {},
     "output_type": "execute_result"
    },
    {
     "data": {
      "image/png": "[encoded data removed]",
      "text/plain": [
       "<Figure size 640x480 with 1 Axes>"
      ]
     },
     "metadata": {},
     "output_type": "display_data"
    }
   ],
   "source": [
    "plt.scatter(x_train, y_train, color='red')\n",
    "plt.plot(x_train, model.predict(x_train))"
   ]
  },
  {
   "cell_type": "markdown",
   "id": "e78fcac4-119c-4028-a60d-25735b66a6f5",
   "metadata": {},
   "source": [
    "This linear regression model shows an excellent way in predicting revenue values based on outside temperature values."
   ]
  },
  {
   "cell_type": "markdown",
   "id": "f2bddbcb-d5f1-458e-bde3-0ab7aaa46c5d",
   "metadata": {},
   "source": [
    "PREDICT THE REVENUE DATA"
   ]
  },
  {
   "cell_type": "code",
   "execution_count": 40,
   "id": "976402e0-87bd-4048-959b-ee4382dec293",
   "metadata": {},
   "outputs": [],
   "source": [
    "y_pred = model.predict(x_test.reshape(-1,1))"
   ]
  },
  {
   "cell_type": "markdown",
   "id": "54026c8c-8ae9-4993-be2b-f86023ab093a",
   "metadata": {},
   "source": [
    "In the dataframe below, we can see the Actual Revenue values compared to the Predicted Revenue values"
   ]
  },
  {
   "cell_type": "code",
   "execution_count": 41,
   "id": "fe14b89f-0a5e-497f-aa09-fdccc9c0d3c7",
   "metadata": {},
   "outputs": [
    {
     "data": {
      "text/html": [
       "<div>\n",
       "<style scoped>\n",
       "    .dataframe tbody tr th:only-of-type {\n",
       "        vertical-align: middle;\n",
       "    }\n",
       "\n",
       "    .dataframe tbody tr th {\n",
       "        vertical-align: top;\n",
       "    }\n",
       "\n",
       "    .dataframe thead th {\n",
       "        text-align: right;\n",
       "    }\n",
       "</style>\n",
       "<table border=\"1\" class=\"dataframe\">\n",
       "  <thead>\n",
       "    <tr style=\"text-align: right;\">\n",
       "      <th></th>\n",
       "      <th>Actual Revenue</th>\n",
       "      <th>Predicted Revenue</th>\n",
       "    </tr>\n",
       "  </thead>\n",
       "  <tbody>\n",
       "    <tr>\n",
       "      <th>0</th>\n",
       "      <td>704.281439</td>\n",
       "      <td>698.338556</td>\n",
       "    </tr>\n",
       "    <tr>\n",
       "      <th>1</th>\n",
       "      <td>632.901914</td>\n",
       "      <td>653.323311</td>\n",
       "    </tr>\n",
       "    <tr>\n",
       "      <th>2</th>\n",
       "      <td>662.558990</td>\n",
       "      <td>664.730275</td>\n",
       "    </tr>\n",
       "    <tr>\n",
       "      <th>3</th>\n",
       "      <td>449.813300</td>\n",
       "      <td>450.519285</td>\n",
       "    </tr>\n",
       "    <tr>\n",
       "      <th>4</th>\n",
       "      <td>636.298374</td>\n",
       "      <td>665.474697</td>\n",
       "    </tr>\n",
       "    <tr>\n",
       "      <th>...</th>\n",
       "      <td>...</td>\n",
       "      <td>...</td>\n",
       "    </tr>\n",
       "    <tr>\n",
       "      <th>95</th>\n",
       "      <td>506.222379</td>\n",
       "      <td>465.780600</td>\n",
       "    </tr>\n",
       "    <tr>\n",
       "      <th>96</th>\n",
       "      <td>749.367154</td>\n",
       "      <td>758.745585</td>\n",
       "    </tr>\n",
       "    <tr>\n",
       "      <th>97</th>\n",
       "      <td>684.158444</td>\n",
       "      <td>711.301255</td>\n",
       "    </tr>\n",
       "    <tr>\n",
       "      <th>98</th>\n",
       "      <td>381.564135</td>\n",
       "      <td>394.456810</td>\n",
       "    </tr>\n",
       "    <tr>\n",
       "      <th>99</th>\n",
       "      <td>603.232942</td>\n",
       "      <td>559.537163</td>\n",
       "    </tr>\n",
       "  </tbody>\n",
       "</table>\n",
       "<p>100 rows × 2 columns</p>\n",
       "</div>"
      ],
      "text/plain": [
       "    Actual Revenue  Predicted Revenue\n",
       "0       704.281439         698.338556\n",
       "1       632.901914         653.323311\n",
       "2       662.558990         664.730275\n",
       "3       449.813300         450.519285\n",
       "4       636.298374         665.474697\n",
       "..             ...                ...\n",
       "95      506.222379         465.780600\n",
       "96      749.367154         758.745585\n",
       "97      684.158444         711.301255\n",
       "98      381.564135         394.456810\n",
       "99      603.232942         559.537163\n",
       "\n",
       "[100 rows x 2 columns]"
      ]
     },
     "execution_count": 41,
     "metadata": {},
     "output_type": "execute_result"
    }
   ],
   "source": [
    "comparison_result = pd.DataFrame({'Actual Revenue':y_test.reshape(-1),'Predicted Revenue':y_pred.reshape(-1)})\n",
    "comparison_result"
   ]
  },
  {
   "cell_type": "markdown",
   "id": "45444a59-7f48-4c8d-a807-82b19e8edb45",
   "metadata": {},
   "source": [
    "Using the R-square metric, we can accurately reflect the percentage of the dependent variable variation"
   ]
  },
  {
   "cell_type": "code",
   "execution_count": 42,
   "id": "c182ba56-8dc4-4617-9935-b8b0693d1b8d",
   "metadata": {},
   "outputs": [
    {
     "data": {
      "text/plain": [
       "0.9837324255882576"
      ]
     },
     "execution_count": 42,
     "metadata": {},
     "output_type": "execute_result"
    }
   ],
   "source": [
    "# R-square metric accurately reflects the percentage of the dependent variable variation that the linear model explains\n",
    "r2_score(y_test,y_pred)"
   ]
  },
  {
   "cell_type": "markdown",
   "id": "59799622-f95d-4dd4-8789-6132daf340ad",
   "metadata": {},
   "source": [
    "Our linear regression model gives us a 98% success rate in predicting values. That's great!"
   ]
  },
  {
   "cell_type": "markdown",
   "id": "ac0e6a1b-06b2-42f1-8f45-aa3ec581a7b3",
   "metadata": {},
   "source": [
    "SHOULD Scream4Cream OPEN FOR BUSINESS TODAY?"
   ]
  },
  {
   "cell_type": "code",
   "execution_count": 43,
   "id": "f9969b4c-d9d9-4e95-99a2-1301be58a822",
   "metadata": {},
   "outputs": [],
   "source": [
    "#Scream4Cream's current overhead costs are $379.23\n",
    "#Therefore, to generate an income, the predicted revenue must be greater than that value\n",
    "overhead_costs = 379.23"
   ]
  },
  {
   "cell_type": "code",
   "execution_count": 63,
   "id": "65177846-5f51-4a8e-9e2f-5d84ccc8c1db",
   "metadata": {},
   "outputs": [],
   "source": [
    "#Determine what temperature it needs to be outside to be profitable\n",
    "#Show all data with Revenue greater than overhead costs\n",
    "df2 = df[df['Revenue'] > overhead_costs]"
   ]
  },
  {
   "cell_type": "code",
   "execution_count": 64,
   "id": "7d5113eb-9758-422e-b338-23acb1a6029c",
   "metadata": {},
   "outputs": [],
   "source": [
    "#Convert min temperature to fahrenheit for easier user experience\n",
    "min_temp_c = df2['Temperature'].min()\n",
    "min_temp_f = ((min_temp_c * (9 / 5)) + 32)"
   ]
  },
  {
   "cell_type": "markdown",
   "id": "02dfa8f3-035e-44db-a157-d13312693079",
   "metadata": {},
   "source": [
    "Please enter today's outside temperature (in F):"
   ]
  },
  {
   "cell_type": "code",
   "execution_count": 62,
   "id": "c2c35454-3057-4990-8b2f-40576458d06c",
   "metadata": {},
   "outputs": [
    {
     "data": {
      "application/vnd.jupyter.widget-view+json": {
       "model_id": "b3eb5126eb184dae8a2062f7ea46b749",
       "version_major": 2,
       "version_minor": 0
      },
      "text/plain": [
       "interactive(children=(FloatText(value=0.0, description='Temp', step=1.0), Output()), _dom_classes=('widget-int…"
      ]
     },
     "metadata": {},
     "output_type": "display_data"
    }
   ],
   "source": [
    "#Interactive element - user inputs today's temperature\n",
    "#Compare the min temp with today's current temp to determine whether to open for business\n",
    "def f(Temp):\n",
    "    if int(Temp) > min_temp_f:\n",
    "        print(\"Open for business\")\n",
    "    else:\n",
    "        print(\"Do not open for business\")\n",
    "    return;\n",
    "\n",
    "interact(f, Temp=widgets.FloatText(min=0, max=120, step=1));"
   ]
  },
  {
   "cell_type": "code",
   "execution_count": null,
   "id": "89119783-e68b-485c-bb05-54774ea841b5",
   "metadata": {},
   "outputs": [],
   "source": []
  }
 ],
 "metadata": {
  "kernelspec": {
   "display_name": "Python 3 (ipykernel)",
   "language": "python",
   "name": "python3"
  },
  "language_info": {
   "codemirror_mode": {
    "name": "ipython",
    "version": 3
   },
   "file_extension": ".py",
   "mimetype": "text/x-python",
   "name": "python",
   "nbconvert_exporter": "python",
   "pygments_lexer": "ipython3",
   "version": "3.11.5"
  }
 },
 "nbformat": 4,
 "nbformat_minor": 5
}
